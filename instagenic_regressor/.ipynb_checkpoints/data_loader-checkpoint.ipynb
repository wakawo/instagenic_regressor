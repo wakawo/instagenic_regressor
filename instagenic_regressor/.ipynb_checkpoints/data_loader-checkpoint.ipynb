{
 "cells": [
  {
   "cell_type": "code",
   "execution_count": 1,
   "metadata": {},
   "outputs": [
    {
     "name": "stderr",
     "output_type": "stream",
     "text": [
      "/home/wakacho/.pyenv/versions/anaconda3-5.1.0/lib/python3.6/site-packages/h5py/__init__.py:36: FutureWarning: Conversion of the second argument of issubdtype from `float` to `np.floating` is deprecated. In future, it will be treated as `np.float64 == np.dtype(float).type`.\n",
      "  from ._conv import register_converters as _register_converters\n",
      "Using TensorFlow backend.\n"
     ]
    }
   ],
   "source": [
    "import numpy as np\n",
    "import os\n",
    "import glob\n",
    "import pickle\n",
    "\n",
    "from keras.preprocessing.image import load_img, img_to_array\n",
    "import tensorflow as tf"
   ]
  },
  {
   "cell_type": "code",
   "execution_count": 2,
   "metadata": {},
   "outputs": [
    {
     "name": "stdout",
     "output_type": "stream",
     "text": [
      "Train set size :  (450,) (450, 5)\n",
      "Val set size :  (50,) (50, 5)\n",
      "Train and validation datasets ready !\n"
     ]
    }
   ],
   "source": [
    "base_image_path = '../images/omelette_rice_500/images/'\n",
    "\n",
    "IMAGE_SIZE = 224\n",
    "\n",
    "with open('./pickle/file_list.pickle', 'rb') as f:\n",
    "    files = pickle.load(f)\n",
    "with open('./pickle/score_list.pickle', 'rb') as f:\n",
    "    train_scores = pickle.load(f)\n",
    "    \n",
    "train_image_paths = [base_image_path + name for name in [files]]\n",
    "train_image_paths = np.array(train_image_paths).reshape(-1)\n",
    "\n",
    "val_image_paths = train_image_paths[-50:]\n",
    "val_scores = train_scores[-50:]\n",
    "train_image_paths = train_image_paths[:-50]\n",
    "train_scores = train_scores[:-50]\n",
    "\n",
    "print('Train set size : ', train_image_paths.shape, train_scores.shape)\n",
    "print('Val set size : ', val_image_paths.shape, val_scores.shape)\n",
    "print('Train and validation datasets ready !')"
   ]
  },
  {
   "cell_type": "code",
   "execution_count": null,
   "metadata": {
    "collapsed": true
   },
   "outputs": [],
   "source": [
    "def parse_data(filename, scores):\n",
    "    image = tf.read_file(filename)\n",
    "    image = tf.image.decode_jpeg(image, channels=3)\n",
    "    image = tf.random_crop(image, size=(IMAGE_SIZE, IMAGE_SIZE, 3))\n",
    "    image = tf.image.random_flip_left_right(image)\n",
    "    image = (tf.cast(image, tf.float32) - 127.5) / 127.5\n",
    "    return image, scores"
   ]
  },
  {
   "cell_type": "code",
   "execution_count": null,
   "metadata": {
    "collapsed": true
   },
   "outputs": [],
   "source": [
    "def train_generator(batchsize, shuffle=True):\n",
    "    with tf.Session() as sess:\n",
    "        # create a dataset\n",
    "        train_dataset = tf.data.Dataset().from_tensor_slices((train_image_paths, train_scores))\n",
    "        train_dataset = train_dataset.map(parse_data, num_parallel_calls=2)\n",
    "\n",
    "        train_dataset = train_dataset.batch(batchsize)\n",
    "        train_dataset = train_dataset.repeat()\n",
    "        if shuffle:\n",
    "            train_dataset = train_dataset.shuffle(buffer_size=4)\n",
    "        train_iterator = train_dataset.make_initializable_iterator()\n",
    "\n",
    "        train_batch = train_iterator.get_next()\n",
    "\n",
    "        sess.run(train_iterator.initializer)\n",
    "\n",
    "        while True:\n",
    "            try:\n",
    "                X_batch, y_batch = sess.run(train_batch)\n",
    "                yield (X_batch, y_batch)\n",
    "            except:\n",
    "                train_iterator = train_dataset.make_initializable_iterator()\n",
    "                sess.run(train_iterator.initializer)\n",
    "                train_batch = train_iterator.get_next()\n",
    "\n",
    "                X_batch, y_batch = sess.run(train_batch)\n",
    "                yield (X_batch, y_batch)"
   ]
  },
  {
   "cell_type": "code",
   "execution_count": null,
   "metadata": {
    "collapsed": true
   },
   "outputs": [],
   "source": [
    "def val_generator(batchsize):\n",
    "    with tf.Session() as sess:\n",
    "        val_dataset = tf.data.Dataset().from_tensor_slices((val_image_paths, val_scores))\n",
    "        val_dataset = val_dataset.map(parse_data, num_parallel_calls=2)\n",
    "\n",
    "        val_dataset = val_dataset.batch(batchsize)\n",
    "        val_dataset = val_dataset.repeat()\n",
    "        val_iterator = val_dataset.make_initializable_iterator()\n",
    "\n",
    "        val_batch = val_iterator.get_next()\n",
    "\n",
    "        sess.run(val_iterator.initializer)\n",
    "\n",
    "        while True:\n",
    "            try:\n",
    "                X_batch, y_batch = sess.run(val_batch)\n",
    "                yield (X_batch, y_batch)\n",
    "            except:\n",
    "                val_iterator = val_dataset.make_initializable_iterator()\n",
    "                sess.run(val_iterator.initializer)\n",
    "                val_batch = val_iterator.get_next()\n",
    "\n",
    "                X_batch, y_batch = sess.run(val_batch)\n",
    "                yield (X_batch, y_batch)"
   ]
  },
  {
   "cell_type": "code",
   "execution_count": null,
   "metadata": {
    "collapsed": true
   },
   "outputs": [],
   "source": []
  }
 ],
 "metadata": {
  "kernelspec": {
   "display_name": "Python 3",
   "language": "python",
   "name": "python3"
  },
  "language_info": {
   "codemirror_mode": {
    "name": "ipython",
    "version": 3
   },
   "file_extension": ".py",
   "mimetype": "text/x-python",
   "name": "python",
   "nbconvert_exporter": "python",
   "pygments_lexer": "ipython3",
   "version": "3.6.4"
  }
 },
 "nbformat": 4,
 "nbformat_minor": 2
}
