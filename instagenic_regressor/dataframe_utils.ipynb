{
 "cells": [
  {
   "cell_type": "code",
   "execution_count": 48,
   "metadata": {},
   "outputs": [],
   "source": [
    "import pandas as pd\n",
    "import numpy as np\n",
    "import matplotlib.pyplot as plt\n",
    "import glob\n",
    "import pickle"
   ]
  },
  {
   "cell_type": "code",
   "execution_count": 37,
   "metadata": {
    "collapsed": true
   },
   "outputs": [],
   "source": [
    "def get_csv_list(dir_path):\n",
    "    csv_path_list = glob.glob(dir_path+'*.csv')\n",
    "    \n",
    "    return csv_path_list"
   ]
  },
  {
   "cell_type": "code",
   "execution_count": 39,
   "metadata": {},
   "outputs": [],
   "source": [
    "def create_merged_dataframe(csv_path_list):\n",
    "    df_all = pd.DataFrame()\n",
    "    df_all['filename'] = pd.read_csv(csv_path_list[0])['filename']\n",
    "    df_all['score'] = [0 for _ in range(len(df_all))]\n",
    "    df_all['num_of_evaluations'] = [0 for _ in range(len(df_all))]\n",
    "    df_all.sort_values(by=['filename'], inplace=True)\n",
    "\n",
    "    for csv_path in csv_path_list:\n",
    "        df_tmp = pd.read_csv(csv_path)\n",
    "        df_tmp.sort_values(by=['filename'], inplace=True)\n",
    "        df_all['score'] = df_all['score'] + df_tmp['score']\n",
    "        df_all['num_of_evaluations'] = df_all['num_of_evaluations'] + df_tmp['num_of_evaluations']\n",
    "\n",
    "    df_all['mean_score'] = df_all['score'] / df_all['num_of_evaluations']\n",
    "    \n",
    "    return df_all"
   ]
  },
  {
   "cell_type": "code",
   "execution_count": 46,
   "metadata": {
    "collapsed": true
   },
   "outputs": [],
   "source": [
    "def get_file_score_list_from_all_data(df_all):\n",
    "    df_result = pd.read_csv(latest_df_path)\n",
    "    file_list = df_result['filename']\n",
    "    score_list = (df_result['score'] / df_result['num_of_evaluations']) // 0.2 + 1.0\n",
    "    \n",
    "    return file_list, score_list"
   ]
  },
  {
   "cell_type": "code",
   "execution_count": 51,
   "metadata": {
    "collapsed": true
   },
   "outputs": [],
   "source": [
    "def save_file_score_list(file_list, score_list):\n",
    "    try:\n",
    "        with open('./pickle/file_list.pickle', 'wb') as f:\n",
    "            pickle.dump(file_list, f)\n",
    "        with open('./pickle/score_list.pickle', 'wb') as f:\n",
    "            pickle.dump(score_list, f)\n",
    "    except:\n",
    "        raise"
   ]
  },
  {
   "cell_type": "code",
   "execution_count": 50,
   "metadata": {
    "collapsed": true
   },
   "outputs": [],
   "source": [
    "def load_file_score_list():\n",
    "    try:\n",
    "        with open('./pickle/file_list.pickle', 'rb') as f:\n",
    "            file_list = pickle.load(f)\n",
    "        with open('./pickle/score_list.pickle', 'rb') as f:\n",
    "            scorelist = pickle.load(f)\n",
    "    except:\n",
    "        raise\n",
    "        \n",
    "    return file_list, score_list"
   ]
  },
  {
   "cell_type": "code",
   "execution_count": 52,
   "metadata": {
    "collapsed": true
   },
   "outputs": [],
   "source": [
    "def main():\n",
    "    DIR_PATH = './data/all_apart_data/'\n",
    "    csv_list = get_csv_list(DIR_PATH)\n",
    "    df_all = create_merged_dataframe(csv_list)\n",
    "    file_list, score_list = get_file_score_list_from_all_data(df_all)\n",
    "    save_file_score_list(file_list, score_list)"
   ]
  },
  {
   "cell_type": "code",
   "execution_count": 53,
   "metadata": {},
   "outputs": [],
   "source": [
    "if __name__=='__main__':\n",
    "    main()"
   ]
  }
 ],
 "metadata": {
  "kernelspec": {
   "display_name": "Python 3",
   "language": "python",
   "name": "python3"
  },
  "language_info": {
   "codemirror_mode": {
    "name": "ipython",
    "version": 3
   },
   "file_extension": ".py",
   "mimetype": "text/x-python",
   "name": "python",
   "nbconvert_exporter": "python",
   "pygments_lexer": "ipython3",
   "version": "3.6.3"
  }
 },
 "nbformat": 4,
 "nbformat_minor": 2
}
